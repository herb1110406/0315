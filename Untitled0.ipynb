{
  "nbformat": 4,
  "nbformat_minor": 0,
  "metadata": {
    "colab": {
      "provenance": [],
      "authorship_tag": "ABX9TyOFPP4F4yNxjuC7N25rATAa",
      "include_colab_link": true
    },
    "kernelspec": {
      "name": "python3",
      "display_name": "Python 3"
    },
    "language_info": {
      "name": "python"
    }
  },
  "cells": [
    {
      "cell_type": "markdown",
      "metadata": {
        "id": "view-in-github",
        "colab_type": "text"
      },
      "source": [
        "<a href=\"https://colab.research.google.com/github/herb1110406/0315/blob/main/Untitled0.ipynb\" target=\"_parent\"><img src=\"https://colab.research.google.com/assets/colab-badge.svg\" alt=\"Open In Colab\"/></a>"
      ]
    },
    {
      "cell_type": "code",
      "execution_count": null,
      "metadata": {
        "id": "TVwFiBoeIjBj"
      },
      "outputs": [],
      "source": [
        "from os import MFD_HUGE_16GB\n",
        "import cv2,time\n",
        "import numpy as np\n",
        "import IPython.display as dp\n",
        "from google.colab.patches import cv2_imshow\n",
        "from PIL import ImageFont, ImageDraw, Image\n",
        "\n",
        "p2=cv2.VideoCapture(\"h3.mp4\")\n",
        "p2.set(1,10)\n",
        "r, m22=p2.read()\n",
        "m22=cv2.cvtColor(m22,cv2.COLOR_BGR2GRAY)\n",
        "\n",
        "\n",
        "p1=cv2.VideoCapture(\"h3.mp4\")\n",
        "p1.set(1,100)\n",
        "r, m1=p1.read()    \n",
        "#cv2_imshow(m1)\n",
        "m1=cv2.cvtColor(m1,cv2.COLOR_BGR2GRAY)\n",
        "m1=cv2.bitwise_not(m1)\n",
        "\n",
        "\n",
        "#cv2_imshow(m22)\n",
        "m4=m1-m22\n",
        "print(\"**???????????\")\n",
        "#m4=cv2.bitwise_not(m4)\n",
        "cv2_imshow(m4)\n",
        "\n",
        "#m4=cv2.cvtColor(m4,cv2.COLOR_BGR2GRAY)\n",
        "#print(\"**???????????===============================\")\n",
        "#cv2_imshow(m4)\n",
        "\n",
        "\n",
        "# m73=cv2.bitwise_not(m4)\n",
        "# print(\"************\")\n",
        "# cv2_imshow(m73)\n",
        "\n",
        "# m8=m1[::,::,2]\n",
        "# cv2_imshow(m8)\n",
        "\n",
        "##m3=m1.copy()\n",
        "##m3=cv2.cvtColor(m3,cv2.COLOR_BGR2GRAY)\n",
        "##th,m2=cv2.threshold(m3,127,255,cv2.THRESH_BINARY|cv2.THRESH_OTSU)\n",
        "##cv2_imshow(m2)\n",
        "\n",
        "# m73=cv2.bitwise_not(m2)\n",
        "# print(\"=====================================================\")\n",
        "# cv2_imshow(m73)\n",
        "\n",
        "\n",
        "# m1=cv2.erode(m73, np.ones((1,1)))\n",
        "\n",
        "# print(\"iiiiiiiiiiiiiiiiiiiiiiiiiiiiiiiiiiiiiiiiiiii\")\n",
        "# cv2_imshow(m1)\n",
        "#m4=cv2.dilate(m4, np.ones((1,10)))\n",
        "#print(\"jjjjjjjjjjjjjjjjjjjjjjjjjjjjjjjjjjjjjjjjj\")\n",
        "#cv2_imshow(m4)\n",
        "# m1=cv2.inRange(m1,(200),(255))\n",
        "m2=np.full((m1.shape[0],m1.shape[1], 3),255 , np.uint8)\n",
        "cv2_imshow(m2)\n",
        "a,b=cv2.findContours(m4,cv2.RETR_TREE,cv2.CHAIN_APPROX_NONE)\n",
        "for i in range(0,len(a),1):\n",
        "  x,y,w,h=cv2.boundingRect(a[i])\n",
        "  cv2.rectangle(m2,(x,y),(x+w,y+h),(0,0,255),2)\n",
        "# print(a)\n",
        "# print(len(a))\n",
        "# print(b)\n",
        "#print(len(a[0][0][0]))\n",
        "cv2.drawContours(m2,a,-1,(0,0,255),2)\n",
        "#cv2_imshow(m4)\n",
        "cv2_imshow(m2)"
      ]
    }
  ]
}